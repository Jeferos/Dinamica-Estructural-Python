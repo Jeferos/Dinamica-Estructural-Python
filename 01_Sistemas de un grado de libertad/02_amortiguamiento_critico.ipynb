{
 "cells": [
  {
   "cell_type": "markdown",
   "metadata": {},
   "source": [
    "## Sistema con un grado de Libertad: amortiguamiento crítico"
   ]
  },
  {
   "cell_type": "markdown",
   "metadata": {},
   "source": [
    "#### Problema.\n",
    "\n",
    "Un sistema de un grado de libertad tiene las propiedades siguientes: m =\n",
    "0.2533 kip-s2/pulg, k = 10 kips/pulg. Determine las respuesta y(t), y'(t), y''(t) en vibración libre con\n",
    "amortiguamiento debido a una velocidad inicial de 40 cm/s con ξ = 1.00.\n",
    "\n"
   ]
  },
  {
   "cell_type": "markdown",
   "metadata": {},
   "source": [
    "Solución:"
   ]
  },
  {
   "cell_type": "code",
   "execution_count": 2,
   "metadata": {},
   "outputs": [],
   "source": [
    "# Importamos las librerías necesarias\n",
    "import numpy as np\n",
    "import matplotlib.pyplot as plt\n",
    "import pandas as pd"
   ]
  },
  {
   "cell_type": "code",
   "execution_count": 5,
   "metadata": {},
   "outputs": [],
   "source": [
    "# Iniciamos las variables\n",
    "m = 0.2533  # masa\n",
    "k = 10  # rigidez\n",
    "v0 = 40  # velocidad inicial en cm/s\n",
    "y0 = 0  # desplazamiento inicial en cm\n",
    "e = 1.00  # razón de amortiguamiento  \n",
    "\n",
    "tf = 5.0  # tiempo de análisis para el gráfico\n",
    "tt = 0.4  # tiempo de análisis para los datos en tabla\n",
    "dt = 0.02 # intervalo de tiempo"
   ]
  },
  {
   "cell_type": "markdown",
   "metadata": {},
   "source": [
    "Cálculos:"
   ]
  },
  {
   "cell_type": "code",
   "execution_count": 6,
   "metadata": {},
   "outputs": [],
   "source": [
    "w = (k/m)**0.5  # Frecuencia natural angular (rad/s)\n",
    "T = 2*np.pi/w  #  Periodo de la estructura"
   ]
  },
  {
   "cell_type": "code",
   "execution_count": 7,
   "metadata": {},
   "outputs": [],
   "source": [
    "t = np.arange(0,tf+dt,dt) # creamos un vector con el tiempo\n"
   ]
  },
  {
   "cell_type": "markdown",
   "metadata": {},
   "source": [
    "#### Ecuación de Movimiento"
   ]
  },
  {
   "cell_type": "markdown",
   "metadata": {},
   "source": [
    "$$ y(t) = v_0 t e^{-\\omega_n t}\n",
    "$$"
   ]
  },
  {
   "cell_type": "code",
   "execution_count": 8,
   "metadata": {},
   "outputs": [],
   "source": [
    "# Ecuación de movimiento\n",
    "y = lambda t: v0 * t * np.exp(- w * t)\n",
    "\n",
    "# Aproximaremos las derivadas con:\n",
    "h = 0.0000001\n",
    "df = lambda t: (y(t+h)-y(t))/h  # Primera derivada\n",
    "df2 = lambda t: (df(t+h)-df(t))/h  # Segunda derivada"
   ]
  },
  {
   "cell_type": "code",
   "execution_count": 17,
   "metadata": {},
   "outputs": [
    {
     "data": {
      "text/html": [
       "<div>\n",
       "<style scoped>\n",
       "    .dataframe tbody tr th:only-of-type {\n",
       "        vertical-align: middle;\n",
       "    }\n",
       "\n",
       "    .dataframe tbody tr th {\n",
       "        vertical-align: top;\n",
       "    }\n",
       "\n",
       "    .dataframe thead th {\n",
       "        text-align: right;\n",
       "    }\n",
       "</style>\n",
       "<table border=\"1\" class=\"dataframe\">\n",
       "  <thead>\n",
       "    <tr style=\"text-align: right;\">\n",
       "      <th></th>\n",
       "      <th>t(s)</th>\n",
       "      <th>y</th>\n",
       "      <th>v</th>\n",
       "      <th>a</th>\n",
       "    </tr>\n",
       "  </thead>\n",
       "  <tbody>\n",
       "    <tr>\n",
       "      <th>0</th>\n",
       "      <td>0.00</td>\n",
       "      <td>0.000</td>\n",
       "      <td>40.000</td>\n",
       "      <td>-502.657</td>\n",
       "    </tr>\n",
       "    <tr>\n",
       "      <th>1</th>\n",
       "      <td>0.02</td>\n",
       "      <td>0.706</td>\n",
       "      <td>30.843</td>\n",
       "      <td>-415.434</td>\n",
       "    </tr>\n",
       "    <tr>\n",
       "      <th>2</th>\n",
       "      <td>0.04</td>\n",
       "      <td>1.244</td>\n",
       "      <td>23.292</td>\n",
       "      <td>-341.815</td>\n",
       "    </tr>\n",
       "    <tr>\n",
       "      <th>3</th>\n",
       "      <td>0.06</td>\n",
       "      <td>1.646</td>\n",
       "      <td>17.093</td>\n",
       "      <td>-279.821</td>\n",
       "    </tr>\n",
       "    <tr>\n",
       "      <th>4</th>\n",
       "      <td>0.08</td>\n",
       "      <td>1.936</td>\n",
       "      <td>12.034</td>\n",
       "      <td>-227.685</td>\n",
       "    </tr>\n",
       "    <tr>\n",
       "      <th>5</th>\n",
       "      <td>0.10</td>\n",
       "      <td>2.134</td>\n",
       "      <td>7.931</td>\n",
       "      <td>-183.942</td>\n",
       "    </tr>\n",
       "    <tr>\n",
       "      <th>6</th>\n",
       "      <td>0.12</td>\n",
       "      <td>2.258</td>\n",
       "      <td>4.630</td>\n",
       "      <td>-147.349</td>\n",
       "    </tr>\n",
       "    <tr>\n",
       "      <th>7</th>\n",
       "      <td>0.14</td>\n",
       "      <td>2.324</td>\n",
       "      <td>1.997</td>\n",
       "      <td>-116.795</td>\n",
       "    </tr>\n",
       "    <tr>\n",
       "      <th>8</th>\n",
       "      <td>0.16</td>\n",
       "      <td>2.342</td>\n",
       "      <td>-0.078</td>\n",
       "      <td>-91.438</td>\n",
       "    </tr>\n",
       "    <tr>\n",
       "      <th>9</th>\n",
       "      <td>0.18</td>\n",
       "      <td>2.324</td>\n",
       "      <td>-1.691</td>\n",
       "      <td>-70.521</td>\n",
       "    </tr>\n",
       "    <tr>\n",
       "      <th>10</th>\n",
       "      <td>0.20</td>\n",
       "      <td>2.277</td>\n",
       "      <td>-2.922</td>\n",
       "      <td>-53.157</td>\n",
       "    </tr>\n",
       "    <tr>\n",
       "      <th>11</th>\n",
       "      <td>0.22</td>\n",
       "      <td>2.209</td>\n",
       "      <td>-3.838</td>\n",
       "      <td>-38.947</td>\n",
       "    </tr>\n",
       "    <tr>\n",
       "      <th>12</th>\n",
       "      <td>0.24</td>\n",
       "      <td>2.125</td>\n",
       "      <td>-4.498</td>\n",
       "      <td>-27.400</td>\n",
       "    </tr>\n",
       "    <tr>\n",
       "      <th>13</th>\n",
       "      <td>0.26</td>\n",
       "      <td>2.030</td>\n",
       "      <td>-4.948</td>\n",
       "      <td>-17.986</td>\n",
       "    </tr>\n",
       "    <tr>\n",
       "      <th>14</th>\n",
       "      <td>0.28</td>\n",
       "      <td>1.928</td>\n",
       "      <td>-5.229</td>\n",
       "      <td>-10.503</td>\n",
       "    </tr>\n",
       "    <tr>\n",
       "      <th>15</th>\n",
       "      <td>0.30</td>\n",
       "      <td>1.822</td>\n",
       "      <td>-5.375</td>\n",
       "      <td>-4.396</td>\n",
       "    </tr>\n",
       "    <tr>\n",
       "      <th>16</th>\n",
       "      <td>0.32</td>\n",
       "      <td>1.714</td>\n",
       "      <td>-5.413</td>\n",
       "      <td>0.333</td>\n",
       "    </tr>\n",
       "    <tr>\n",
       "      <th>17</th>\n",
       "      <td>0.34</td>\n",
       "      <td>1.606</td>\n",
       "      <td>-5.367</td>\n",
       "      <td>4.019</td>\n",
       "    </tr>\n",
       "    <tr>\n",
       "      <th>18</th>\n",
       "      <td>0.36</td>\n",
       "      <td>1.500</td>\n",
       "      <td>-5.257</td>\n",
       "      <td>6.928</td>\n",
       "    </tr>\n",
       "    <tr>\n",
       "      <th>19</th>\n",
       "      <td>0.38</td>\n",
       "      <td>1.396</td>\n",
       "      <td>-5.098</td>\n",
       "      <td>8.860</td>\n",
       "    </tr>\n",
       "    <tr>\n",
       "      <th>20</th>\n",
       "      <td>0.40</td>\n",
       "      <td>1.296</td>\n",
       "      <td>-4.903</td>\n",
       "      <td>10.481</td>\n",
       "    </tr>\n",
       "  </tbody>\n",
       "</table>\n",
       "</div>"
      ],
      "text/plain": [
       "    t(s)      y       v        a\n",
       "0   0.00  0.000  40.000 -502.657\n",
       "1   0.02  0.706  30.843 -415.434\n",
       "2   0.04  1.244  23.292 -341.815\n",
       "3   0.06  1.646  17.093 -279.821\n",
       "4   0.08  1.936  12.034 -227.685\n",
       "5   0.10  2.134   7.931 -183.942\n",
       "6   0.12  2.258   4.630 -147.349\n",
       "7   0.14  2.324   1.997 -116.795\n",
       "8   0.16  2.342  -0.078  -91.438\n",
       "9   0.18  2.324  -1.691  -70.521\n",
       "10  0.20  2.277  -2.922  -53.157\n",
       "11  0.22  2.209  -3.838  -38.947\n",
       "12  0.24  2.125  -4.498  -27.400\n",
       "13  0.26  2.030  -4.948  -17.986\n",
       "14  0.28  1.928  -5.229  -10.503\n",
       "15  0.30  1.822  -5.375   -4.396\n",
       "16  0.32  1.714  -5.413    0.333\n",
       "17  0.34  1.606  -5.367    4.019\n",
       "18  0.36  1.500  -5.257    6.928\n",
       "19  0.38  1.396  -5.098    8.860\n",
       "20  0.40  1.296  -4.903   10.481"
      ]
     },
     "execution_count": 17,
     "metadata": {},
     "output_type": "execute_result"
    }
   ],
   "source": [
    "# Resultados del desplazamiento\n",
    "ttt = np.arange(0, tt + dt, dt) # creamos un vector con el tiempo para la tabla\n",
    "Df = pd.DataFrame({\"t(s)\":ttt,\"y\":[round(y(i),3) for i in ttt],\"v\":[round(df(i),3) for i in ttt],\"a\":[round(df2(i),3) for i in ttt]})\n",
    "Df"
   ]
  },
  {
   "cell_type": "code",
   "execution_count": 18,
   "metadata": {},
   "outputs": [
    {
     "data": {
      "text/plain": [
       "Text(0, 0.5, 'Desplazamiento (cm)')"
      ]
     },
     "execution_count": 18,
     "metadata": {},
     "output_type": "execute_result"
    },
    {
     "data": {
      "image/png": "[encoded data removed]",
      "text/plain": [
       "<Figure size 432x288 with 1 Axes>"
      ]
     },
     "metadata": {},
     "output_type": "display_data"
    }
   ],
   "source": [
    "# Graficamos  el Desplazamiento\n",
    "plt.style.use('dark_background')\n",
    "plt.plot(t,y(t),color='lightblue')\n",
    "plt.grid()\n",
    "plt.title(\"Respuesta elástica en el tiempo\")\n",
    "plt.xlabel(\"Tiempo (s)\")\n",
    "plt.ylabel(\"Desplazamiento (cm)\")"
   ]
  },
  {
   "cell_type": "code",
   "execution_count": 19,
   "metadata": {},
   "outputs": [
    {
     "data": {
      "text/plain": [
       "Text(0, 0.5, 'Velocidad (cm/s)')"
      ]
     },
     "execution_count": 19,
     "metadata": {},
     "output_type": "execute_result"
    },
    {
     "data": {
      "image/png": "[encoded data removed]",
      "text/plain": [
       "<Figure size 432x288 with 1 Axes>"
      ]
     },
     "metadata": {},
     "output_type": "display_data"
    }
   ],
   "source": [
    "# Graficamos  la velocidad\n",
    "plt.plot(t,df(t),color='yellow')\n",
    "plt.grid()\n",
    "plt.title(\"Respuesta elástica en el tiempo\")\n",
    "plt.xlabel(\"Tiempo (s)\")\n",
    "plt.ylabel(\"Velocidad (cm/s)\")"
   ]
  },
  {
   "cell_type": "code",
   "execution_count": 20,
   "metadata": {},
   "outputs": [
    {
     "data": {
      "text/plain": [
       "Text(0, 0.5, 'Aceleración ($cm/s^2$)')"
      ]
     },
     "execution_count": 20,
     "metadata": {},
     "output_type": "execute_result"
    },
    {
     "data": {
      "image/png": "[encoded data removed]",
      "text/plain": [
       "<Figure size 432x288 with 1 Axes>"
      ]
     },
     "metadata": {},
     "output_type": "display_data"
    }
   ],
   "source": [
    "# Graficamos  la aceleración\n",
    "plt.plot(t,df2(t),color='pink')\n",
    "plt.grid()\n",
    "plt.title(\"Respuesta elástica en el tiempo\")\n",
    "plt.xlabel(\"Tiempo (s)\")\n",
    "plt.ylabel(\"Aceleración ($cm/s^2$)\")"
   ]
  },
  {
   "cell_type": "code",
   "execution_count": null,
   "metadata": {},
   "outputs": [],
   "source": []
  }
 ],
 "metadata": {
  "kernelspec": {
   "display_name": "Python 3",
   "language": "python",
   "name": "python3"
  },
  "language_info": {
   "codemirror_mode": {
    "name": "ipython",
    "version": 3
   },
   "file_extension": ".py",
   "mimetype": "text/x-python",
   "name": "python",
   "nbconvert_exporter": "python",
   "pygments_lexer": "ipython3",
   "version": "3.8.5"
  }
 },
 "nbformat": 4,
 "nbformat_minor": 4
}
