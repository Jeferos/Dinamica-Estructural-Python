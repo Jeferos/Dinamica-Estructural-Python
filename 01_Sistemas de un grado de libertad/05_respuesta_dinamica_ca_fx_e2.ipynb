{
 "cells": [
  {
   "cell_type": "markdown",
   "metadata": {},
   "source": [
    "## Respuesta dinámica a excitaciones generales con amortiguación\n",
    "### Cálculo directo de la integral de Duhamel\n",
    "#### Fuerza Cuadrática\n"
   ]
  },
  {
   "cell_type": "markdown",
   "metadata": {},
   "source": [
    "#### Problema\n",
    "La torre de la figura está sometida a una aceleración horizontal en su cimiento $a(t)$. Determine el desplazamiento de la parte superior de la torre con relación al cimiento en el instante $t=1.0 s$. Suponer la amortiguación igual al $20\\%$ de la mortiguación crítica."
   ]
  },
  {
   "cell_type": "code",
   "execution_count": 2,
   "metadata": {},
   "outputs": [
    {
     "data": {
      "image/png": "[encoded data removed]",
      "text/plain": [
       "<IPython.core.display.Image object>"
      ]
     },
     "execution_count": 2,
     "metadata": {},
     "output_type": "execute_result"
    }
   ],
   "source": [
    "from IPython.display import Image\n",
    "Image(filename=\"imagenes/fig_4.png\")"
   ]
  },
  {
   "cell_type": "code",
   "execution_count": 3,
   "metadata": {},
   "outputs": [],
   "source": [
    "# Importamos las librerías necesarias\n",
    "import numpy as np\n",
    "import pandas as pd\n",
    "from librerias.integral import cuad_gauss # librería que aproxima las integrales mediante el método de Cuadratura de Gauss"
   ]
  },
  {
   "cell_type": "code",
   "execution_count": 14,
   "metadata": {},
   "outputs": [],
   "source": [
    "# Iniciamos las variables\n",
    "P = 196000 # Peso W en kp\n",
    "g = 980 # Gravedad en cm/s2\n",
    "m = P/g  # masa en kp*s2/cm\n",
    "k = 1000  # rigidez en kp/cm\n",
    "e = 0.2 # razón de amortiguación del sistema\n",
    "\n",
    "F = lambda t: - m * g * 0.1 * t**2 \t# Fuerza con aceleración constante aplicada al cimiento\n",
    "tf = 1 # tienpo hasta que se aplica la fuerza\n",
    "dt = 0.05 # intervalos de tiempo"
   ]
  },
  {
   "cell_type": "markdown",
   "metadata": {},
   "source": [
    "Cálculos:"
   ]
  },
  {
   "cell_type": "code",
   "execution_count": 15,
   "metadata": {},
   "outputs": [],
   "source": [
    "w = (k/m)**0.5  # Frecuencia angular natural(rad/s)\n",
    "wd = w*(1 - e**2)**0.5 # Frecuencia del sistema con amortiguación"
   ]
  },
  {
   "cell_type": "markdown",
   "metadata": {},
   "source": [
    "Utilizaremos las siguientes ecuaciones:\n",
    "$$ A_D(t_i)=A_D(t_{i-1}) + \\int^{t_i}_{t_{i-1}} F(\\tau) e^{\\xi \\omega \\tau}cos(\\omega_{D}\\tau) d\\tau$$\n",
    "$$ B_D(t_i)=B_D(t_{i-1}) + \\int^{t_i}_{t_{i-1}} F(\\tau) e^{\\xi \\omega \\tau}sen(\\omega_{D}\\tau) d\\tau$$\n",
    "\n",
    "\n",
    "$$ y(t_i) = \\frac{e^{\\xi \\omega t_i}}{m \\omega_D}(A_D(t_i)sen(\\omega_D t_i)-B_D(t_i)cos(\\omega_D t_i) )$$"
   ]
  },
  {
   "cell_type": "code",
   "execution_count": 16,
   "metadata": {},
   "outputs": [],
   "source": [
    "# Variables iniciales necesarias\n",
    "y0 = 0 # desplazamiento inicial\n",
    "v0 = 0 # velocidad inicial\n",
    "a0 = 0 # acelereación inicial\n",
    "A = 0\n",
    "B = 0\n",
    "AA = [A]\n",
    "BB = [B]\n",
    "y = [y0]\n",
    "v = [v0]\n",
    "a = [a0]\n",
    "n = int(tf / dt) \n",
    "tt = np.arange(0, tf + dt, dt) # vector con los intervalos de tiempo"
   ]
  },
  {
   "cell_type": "code",
   "execution_count": 17,
   "metadata": {},
   "outputs": [],
   "source": [
    "# definimos las ecuaciones dentro de las integrales\n",
    "eqA = lambda t: F(t) * np.exp(e * w * t) * np.cos(wd * t)\n",
    "eqB = lambda t: F(t) * np.exp(e * w * t) * np.sin(wd * t)"
   ]
  },
  {
   "cell_type": "code",
   "execution_count": 18,
   "metadata": {},
   "outputs": [],
   "source": [
    "# definimos las función y(t) = f y derivadas\n",
    "f = lambda t: (A*np.sin(wd * t) - B * np.cos(wd * t)) * np.exp(-e * w * t) / (m * wd)\n",
    "h = 0.000001\n",
    "df = lambda t: (f(t + h) - f(t))/h # primera derivada\n",
    "ddf = lambda t: (df(t + h) - df(t))/h # segunda derivada"
   ]
  },
  {
   "cell_type": "code",
   "execution_count": 19,
   "metadata": {},
   "outputs": [],
   "source": [
    "# iteramos\n",
    "for i in range(n):\n",
    "    A = A + cuad_gauss(tt[i], tt[i + 1], eqA)\n",
    "    B = B + cuad_gauss(tt[i], tt[i + 1], eqB)\n",
    "    \n",
    "    AA.append(A)\n",
    "    BB.append(B)\n",
    "    y.append(f(tt[i + 1]))\n",
    "    v.append(df(tt[i + 1]))\n",
    "    a.append(ddf(tt[i + 1]))"
   ]
  },
  {
   "cell_type": "code",
   "execution_count": 20,
   "metadata": {},
   "outputs": [
    {
     "data": {
      "text/html": [
       "<div>\n",
       "<style scoped>\n",
       "    .dataframe tbody tr th:only-of-type {\n",
       "        vertical-align: middle;\n",
       "    }\n",
       "\n",
       "    .dataframe tbody tr th {\n",
       "        vertical-align: top;\n",
       "    }\n",
       "\n",
       "    .dataframe thead th {\n",
       "        text-align: right;\n",
       "    }\n",
       "</style>\n",
       "<table border=\"1\" class=\"dataframe\">\n",
       "  <thead>\n",
       "    <tr style=\"text-align: right;\">\n",
       "      <th></th>\n",
       "      <th>t(s)</th>\n",
       "      <th>A</th>\n",
       "      <th>B</th>\n",
       "      <th>y</th>\n",
       "      <th>v</th>\n",
       "      <th>a</th>\n",
       "    </tr>\n",
       "  </thead>\n",
       "  <tbody>\n",
       "    <tr>\n",
       "      <th>0</th>\n",
       "      <td>0.00</td>\n",
       "      <td>0.00000</td>\n",
       "      <td>0.00000</td>\n",
       "      <td>0.000000</td>\n",
       "      <td>0.000000</td>\n",
       "      <td>0.000000</td>\n",
       "    </tr>\n",
       "    <tr>\n",
       "      <th>1</th>\n",
       "      <td>0.05</td>\n",
       "      <td>-0.82749</td>\n",
       "      <td>-0.06822</td>\n",
       "      <td>-0.000051</td>\n",
       "      <td>-0.004036</td>\n",
       "      <td>0.003862</td>\n",
       "    </tr>\n",
       "    <tr>\n",
       "      <th>2</th>\n",
       "      <td>0.10</td>\n",
       "      <td>-6.65906</td>\n",
       "      <td>-1.10673</td>\n",
       "      <td>-0.000801</td>\n",
       "      <td>-0.031870</td>\n",
       "      <td>0.032509</td>\n",
       "    </tr>\n",
       "    <tr>\n",
       "      <th>3</th>\n",
       "      <td>0.15</td>\n",
       "      <td>-22.43903</td>\n",
       "      <td>-5.66595</td>\n",
       "      <td>-0.004011</td>\n",
       "      <td>-0.106057</td>\n",
       "      <td>0.114914</td>\n",
       "    </tr>\n",
       "    <tr>\n",
       "      <th>4</th>\n",
       "      <td>0.20</td>\n",
       "      <td>-52.69468</td>\n",
       "      <td>-18.05983</td>\n",
       "      <td>-0.012530</td>\n",
       "      <td>-0.247600</td>\n",
       "      <td>0.284103</td>\n",
       "    </tr>\n",
       "    <tr>\n",
       "      <th>5</th>\n",
       "      <td>0.25</td>\n",
       "      <td>-101.13193</td>\n",
       "      <td>-44.34495</td>\n",
       "      <td>-0.030216</td>\n",
       "      <td>-0.475759</td>\n",
       "      <td>0.576615</td>\n",
       "    </tr>\n",
       "    <tr>\n",
       "      <th>6</th>\n",
       "      <td>0.30</td>\n",
       "      <td>-170.22248</td>\n",
       "      <td>-92.22426</td>\n",
       "      <td>-0.061840</td>\n",
       "      <td>-0.807895</td>\n",
       "      <td>1.031848</td>\n",
       "    </tr>\n",
       "    <tr>\n",
       "      <th>7</th>\n",
       "      <td>0.35</td>\n",
       "      <td>-260.79489</td>\n",
       "      <td>-170.87199</td>\n",
       "      <td>-0.112995</td>\n",
       "      <td>-1.259340</td>\n",
       "      <td>1.691480</td>\n",
       "    </tr>\n",
       "    <tr>\n",
       "      <th>8</th>\n",
       "      <td>0.40</td>\n",
       "      <td>-371.64267</td>\n",
       "      <td>-290.67826</td>\n",
       "      <td>-0.189984</td>\n",
       "      <td>-1.843297</td>\n",
       "      <td>2.598727</td>\n",
       "    </tr>\n",
       "    <tr>\n",
       "      <th>9</th>\n",
       "      <td>0.45</td>\n",
       "      <td>-499.16321</td>\n",
       "      <td>-462.91382</td>\n",
       "      <td>-0.299718</td>\n",
       "      <td>-2.570776</td>\n",
       "      <td>3.797795</td>\n",
       "    </tr>\n",
       "    <tr>\n",
       "      <th>10</th>\n",
       "      <td>0.50</td>\n",
       "      <td>-637.04159</td>\n",
       "      <td>-699.31745</td>\n",
       "      <td>-0.449601</td>\n",
       "      <td>-3.450550</td>\n",
       "      <td>5.334233</td>\n",
       "    </tr>\n",
       "    <tr>\n",
       "      <th>11</th>\n",
       "      <td>0.55</td>\n",
       "      <td>-775.99324</td>\n",
       "      <td>-1011.61094</td>\n",
       "      <td>-0.647422</td>\n",
       "      <td>-4.489150</td>\n",
       "      <td>7.251755</td>\n",
       "    </tr>\n",
       "    <tr>\n",
       "      <th>12</th>\n",
       "      <td>0.60</td>\n",
       "      <td>-903.57924</td>\n",
       "      <td>-1410.94873</td>\n",
       "      <td>-0.901237</td>\n",
       "      <td>-5.690883</td>\n",
       "      <td>9.596435</td>\n",
       "    </tr>\n",
       "    <tr>\n",
       "      <th>13</th>\n",
       "      <td>0.65</td>\n",
       "      <td>-1004.10709</td>\n",
       "      <td>-1907.31160</td>\n",
       "      <td>-1.219266</td>\n",
       "      <td>-7.057872</td>\n",
       "      <td>12.410073</td>\n",
       "    </tr>\n",
       "    <tr>\n",
       "      <th>14</th>\n",
       "      <td>0.70</td>\n",
       "      <td>-1058.62899</td>\n",
       "      <td>-2508.85615</td>\n",
       "      <td>-1.609780</td>\n",
       "      <td>-8.590132</td>\n",
       "      <td>15.731860</td>\n",
       "    </tr>\n",
       "    <tr>\n",
       "      <th>15</th>\n",
       "      <td>0.75</td>\n",
       "      <td>-1045.04811</td>\n",
       "      <td>-3221.23384</td>\n",
       "      <td>-2.081002</td>\n",
       "      <td>-10.285659</td>\n",
       "      <td>19.603874</td>\n",
       "    </tr>\n",
       "    <tr>\n",
       "      <th>16</th>\n",
       "      <td>0.80</td>\n",
       "      <td>-938.34156</td>\n",
       "      <td>-4046.89546</td>\n",
       "      <td>-2.641004</td>\n",
       "      <td>-12.140540</td>\n",
       "      <td>24.062086</td>\n",
       "    </tr>\n",
       "    <tr>\n",
       "      <th>17</th>\n",
       "      <td>0.85</td>\n",
       "      <td>-710.90675</td>\n",
       "      <td>-4984.39862</td>\n",
       "      <td>-3.297619</td>\n",
       "      <td>-14.149091</td>\n",
       "      <td>29.143354</td>\n",
       "    </tr>\n",
       "    <tr>\n",
       "      <th>18</th>\n",
       "      <td>0.90</td>\n",
       "      <td>-333.03536</td>\n",
       "      <td>-6027.73759</td>\n",
       "      <td>-4.058355</td>\n",
       "      <td>-16.303997</td>\n",
       "      <td>34.876102</td>\n",
       "    </tr>\n",
       "    <tr>\n",
       "      <th>19</th>\n",
       "      <td>0.95</td>\n",
       "      <td>226.48359</td>\n",
       "      <td>-7165.71576</td>\n",
       "      <td>-4.930314</td>\n",
       "      <td>-18.596477</td>\n",
       "      <td>41.286086</td>\n",
       "    </tr>\n",
       "    <tr>\n",
       "      <th>20</th>\n",
       "      <td>1.00</td>\n",
       "      <td>999.63307</td>\n",
       "      <td>-8381.38227</td>\n",
       "      <td>-5.920130</td>\n",
       "      <td>-21.016454</td>\n",
       "      <td>48.389737</td>\n",
       "    </tr>\n",
       "  </tbody>\n",
       "</table>\n",
       "</div>"
      ],
      "text/plain": [
       "    t(s)           A           B         y          v          a\n",
       "0   0.00     0.00000     0.00000  0.000000   0.000000   0.000000\n",
       "1   0.05    -0.82749    -0.06822 -0.000051  -0.004036   0.003862\n",
       "2   0.10    -6.65906    -1.10673 -0.000801  -0.031870   0.032509\n",
       "3   0.15   -22.43903    -5.66595 -0.004011  -0.106057   0.114914\n",
       "4   0.20   -52.69468   -18.05983 -0.012530  -0.247600   0.284103\n",
       "5   0.25  -101.13193   -44.34495 -0.030216  -0.475759   0.576615\n",
       "6   0.30  -170.22248   -92.22426 -0.061840  -0.807895   1.031848\n",
       "7   0.35  -260.79489  -170.87199 -0.112995  -1.259340   1.691480\n",
       "8   0.40  -371.64267  -290.67826 -0.189984  -1.843297   2.598727\n",
       "9   0.45  -499.16321  -462.91382 -0.299718  -2.570776   3.797795\n",
       "10  0.50  -637.04159  -699.31745 -0.449601  -3.450550   5.334233\n",
       "11  0.55  -775.99324 -1011.61094 -0.647422  -4.489150   7.251755\n",
       "12  0.60  -903.57924 -1410.94873 -0.901237  -5.690883   9.596435\n",
       "13  0.65 -1004.10709 -1907.31160 -1.219266  -7.057872  12.410073\n",
       "14  0.70 -1058.62899 -2508.85615 -1.609780  -8.590132  15.731860\n",
       "15  0.75 -1045.04811 -3221.23384 -2.081002 -10.285659  19.603874\n",
       "16  0.80  -938.34156 -4046.89546 -2.641004 -12.140540  24.062086\n",
       "17  0.85  -710.90675 -4984.39862 -3.297619 -14.149091  29.143354\n",
       "18  0.90  -333.03536 -6027.73759 -4.058355 -16.303997  34.876102\n",
       "19  0.95   226.48359 -7165.71576 -4.930314 -18.596477  41.286086\n",
       "20  1.00   999.63307 -8381.38227 -5.920130 -21.016454  48.389737"
      ]
     },
     "execution_count": 20,
     "metadata": {},
     "output_type": "execute_result"
    }
   ],
   "source": [
    "df = pd.DataFrame({'t(s)':tt,'A':AA,'B':BB,'y':y,'v':v,'a':a})\n",
    "df\n"
   ]
  },
  {
   "cell_type": "code",
   "execution_count": 34,
   "metadata": {},
   "outputs": [
    {
     "name": "stdout",
     "output_type": "stream",
     "text": [
      "Desplazamiento t = 1s: -5.9201\n"
     ]
    }
   ],
   "source": [
    "print(\"Desplazamiento t = 1s: {}\".format(round((df['y'][len(df['y'])-1]),4)))"
   ]
  }
 ],
 "metadata": {
  "kernelspec": {
   "display_name": "Python 3",
   "language": "python",
   "name": "python3"
  },
  "language_info": {
   "codemirror_mode": {
    "name": "ipython",
    "version": 3
   },
   "file_extension": ".py",
   "mimetype": "text/x-python",
   "name": "python",
   "nbconvert_exporter": "python",
   "pygments_lexer": "ipython3",
   "version": "3.8.5"
  }
 },
 "nbformat": 4,
 "nbformat_minor": 4
}
