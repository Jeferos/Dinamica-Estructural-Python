{
 "cells": [
  {
   "cell_type": "markdown",
   "metadata": {},
   "source": [
    "### Método de Newmark 1/6: aceleración lineal"
   ]
  },
  {
   "cell_type": "markdown",
   "metadata": {},
   "source": [
    "#### Problema:"
   ]
  },
  {
   "cell_type": "markdown",
   "metadata": {},
   "source": [
    "Un sistema de 1GDL tiene las propiedades siguientes: m = 0.2533 kip-s2/pulg, k = 10 kips/pulg, Tn = 1 s (ωn = 6.283 rad/s) y $\\xi$ = 0.05. Determine la respuesta y(t) de este sistema para la p(t) definida por la fuerza de pulso sinusoidal de medio ciclo que se muestra en la figura, con t = 0.1 s "
   ]
  },
  {
   "cell_type": "markdown",
   "metadata": {},
   "source": [
    "<img src=\"imagenes/fig_5.png\" width=\"300\">"
   ]
  },
  {
   "cell_type": "markdown",
   "metadata": {},
   "source": [
    "#### Solución: "
   ]
  },
  {
   "cell_type": "code",
   "execution_count": 19,
   "metadata": {},
   "outputs": [],
   "source": [
    "# Importamos la librerias necesarias\n",
    "import numpy as np\n",
    "import pandas as pd"
   ]
  },
  {
   "cell_type": "code",
   "execution_count": 25,
   "metadata": {},
   "outputs": [],
   "source": [
    "# Datos:\n",
    "k = 10\n",
    "m = 0.2533  \n",
    "tc = 0.6 # tiempo de aplicación de la carga\n",
    "tf = 1.0 # tiempo de análisis\n",
    "dt = 0.1 # intervalos de tiempo\n",
    "ξ = 0.05 # razon de amortiguamiento\n",
    "v0 = 0 # velocidad inicial\n",
    "y0 = 0 # posición inicial\n",
    "\n",
    "# F = lambda t: 10 * np.sin(np.pi * t / 0.6)\n",
    "def F(t):\n",
    "    if t >= 0 and t <= tc:\n",
    "        ff = 10 * np.sin(np.pi * t / 0.6)\n",
    "    else:\n",
    "        ff = 0\n",
    "    return ff\n",
    "        \n",
    "        "
   ]
  },
  {
   "cell_type": "code",
   "execution_count": 26,
   "metadata": {},
   "outputs": [],
   "source": [
    "# Coeficientes de Newmark:\n",
    "β = 1 / 6  # beta de Newmark\n",
    "γ = 1 / 2  # gamma de Newmark\n",
    "\n",
    "c = ξ * 2 * (k * m)**0.5\n",
    "F0 = F(0)\n",
    "\n",
    "a0 = (F0 - c * v0 - k * y0) / m # aceleración inicial\n",
    "\n",
    "A1 = (m / (β * dt**2)) + γ * c / (dt * β) # coeficientes\n",
    "A2 = (m / (β * dt)) + (γ / β - 1) * c\n",
    "A3 = (0.5 / β - 1) * m + dt * c * (0.5 * γ / β - 1)\n",
    "\n",
    "kpri = k + A1"
   ]
  },
  {
   "cell_type": "code",
   "execution_count": 27,
   "metadata": {},
   "outputs": [],
   "source": [
    "# Iteraciones\n",
    "n = int(tf / dt)\n",
    "y = [y0]\n",
    "v = [v0]\n",
    "a = [a0]\n",
    "t = np.arange(0, tf+dt, dt)\n",
    "for i in range(1, n + 1):\n",
    "    Ppri = F(i * dt) + A1 * y[i - 1] + A2 * v[i - 1] + A3 * a[i - 1]\n",
    "    y.append((Ppri) / kpri) \n",
    "    v.append((γ * (y[i] - y[i - 1]) / (dt * β)) + (1 - γ / β) * v[i - 1] + dt * (1 - 0.5 * γ / β) * a[i - 1])\n",
    "    a.append((y[i] - y[i - 1]) / (β * dt**2) - v[i - 1] / (dt * β) - (0.5 / β - 1) * a[i - 1])"
   ]
  },
  {
   "cell_type": "markdown",
   "metadata": {},
   "source": [
    "##### Tabla de Resultados:"
   ]
  },
  {
   "cell_type": "code",
   "execution_count": 29,
   "metadata": {},
   "outputs": [
    {
     "data": {
      "text/html": [
       "<div>\n",
       "<style scoped>\n",
       "    .dataframe tbody tr th:only-of-type {\n",
       "        vertical-align: middle;\n",
       "    }\n",
       "\n",
       "    .dataframe tbody tr th {\n",
       "        vertical-align: top;\n",
       "    }\n",
       "\n",
       "    .dataframe thead th {\n",
       "        text-align: right;\n",
       "    }\n",
       "</style>\n",
       "<table border=\"1\" class=\"dataframe\">\n",
       "  <thead>\n",
       "    <tr style=\"text-align: right;\">\n",
       "      <th></th>\n",
       "      <th>$t_i$</th>\n",
       "      <th>$y_i$</th>\n",
       "      <th>$v_i$</th>\n",
       "      <th>$a_i$</th>\n",
       "    </tr>\n",
       "  </thead>\n",
       "  <tbody>\n",
       "    <tr>\n",
       "      <th>0</th>\n",
       "      <td>0.0</td>\n",
       "      <td>0.000000</td>\n",
       "      <td>0.000000</td>\n",
       "      <td>0.000000</td>\n",
       "    </tr>\n",
       "    <tr>\n",
       "      <th>1</th>\n",
       "      <td>0.1</td>\n",
       "      <td>0.029984</td>\n",
       "      <td>0.899525</td>\n",
       "      <td>17.990506</td>\n",
       "    </tr>\n",
       "    <tr>\n",
       "      <th>2</th>\n",
       "      <td>0.2</td>\n",
       "      <td>0.219334</td>\n",
       "      <td>2.981904</td>\n",
       "      <td>23.657074</td>\n",
       "    </tr>\n",
       "    <tr>\n",
       "      <th>3</th>\n",
       "      <td>0.3</td>\n",
       "      <td>0.616610</td>\n",
       "      <td>4.771641</td>\n",
       "      <td>12.137667</td>\n",
       "    </tr>\n",
       "    <tr>\n",
       "      <th>4</th>\n",
       "      <td>0.4</td>\n",
       "      <td>1.113016</td>\n",
       "      <td>4.742004</td>\n",
       "      <td>-12.730417</td>\n",
       "    </tr>\n",
       "    <tr>\n",
       "      <th>5</th>\n",
       "      <td>0.5</td>\n",
       "      <td>1.478209</td>\n",
       "      <td>2.108317</td>\n",
       "      <td>-39.943315</td>\n",
       "    </tr>\n",
       "    <tr>\n",
       "      <th>6</th>\n",
       "      <td>0.6</td>\n",
       "      <td>1.462486</td>\n",
       "      <td>-2.691168</td>\n",
       "      <td>-56.046392</td>\n",
       "    </tr>\n",
       "    <tr>\n",
       "      <th>7</th>\n",
       "      <td>0.7</td>\n",
       "      <td>0.951430</td>\n",
       "      <td>-7.147026</td>\n",
       "      <td>-33.070758</td>\n",
       "    </tr>\n",
       "    <tr>\n",
       "      <th>8</th>\n",
       "      <td>0.8</td>\n",
       "      <td>0.127306</td>\n",
       "      <td>-8.776145</td>\n",
       "      <td>0.488364</td>\n",
       "    </tr>\n",
       "    <tr>\n",
       "      <th>9</th>\n",
       "      <td>0.9</td>\n",
       "      <td>-0.695431</td>\n",
       "      <td>-7.154227</td>\n",
       "      <td>31.949998</td>\n",
       "    </tr>\n",
       "    <tr>\n",
       "      <th>10</th>\n",
       "      <td>1.0</td>\n",
       "      <td>-1.220830</td>\n",
       "      <td>-3.051025</td>\n",
       "      <td>50.114041</td>\n",
       "    </tr>\n",
       "  </tbody>\n",
       "</table>\n",
       "</div>"
      ],
      "text/plain": [
       "    $t_i$     $y_i$     $v_i$      $a_i$\n",
       "0     0.0  0.000000  0.000000   0.000000\n",
       "1     0.1  0.029984  0.899525  17.990506\n",
       "2     0.2  0.219334  2.981904  23.657074\n",
       "3     0.3  0.616610  4.771641  12.137667\n",
       "4     0.4  1.113016  4.742004 -12.730417\n",
       "5     0.5  1.478209  2.108317 -39.943315\n",
       "6     0.6  1.462486 -2.691168 -56.046392\n",
       "7     0.7  0.951430 -7.147026 -33.070758\n",
       "8     0.8  0.127306 -8.776145   0.488364\n",
       "9     0.9 -0.695431 -7.154227  31.949998\n",
       "10    1.0 -1.220830 -3.051025  50.114041"
      ]
     },
     "execution_count": 29,
     "metadata": {},
     "output_type": "execute_result"
    }
   ],
   "source": [
    "Df=pd.DataFrame({\"$t_i$\":t,\"$y_i$\":y,\"$v_i$\":v,\"$a_i$\":a})\n",
    "Df"
   ]
  },
  {
   "cell_type": "code",
   "execution_count": null,
   "metadata": {},
   "outputs": [],
   "source": []
  }
 ],
 "metadata": {
  "kernelspec": {
   "display_name": "Python 3",
   "language": "python",
   "name": "python3"
  },
  "language_info": {
   "codemirror_mode": {
    "name": "ipython",
    "version": 3
   },
   "file_extension": ".py",
   "mimetype": "text/x-python",
   "name": "python",
   "nbconvert_exporter": "python",
   "pygments_lexer": "ipython3",
   "version": "3.8.5"
  }
 },
 "nbformat": 4,
 "nbformat_minor": 4
}
