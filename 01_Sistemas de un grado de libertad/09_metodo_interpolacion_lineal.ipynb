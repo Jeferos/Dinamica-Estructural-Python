{
 "cells": [
  {
   "cell_type": "markdown",
   "metadata": {},
   "source": [
    "### Método de interpolación lineal de la excitación"
   ]
  },
  {
   "cell_type": "markdown",
   "metadata": {},
   "source": [
    "#### Problema:"
   ]
  },
  {
   "cell_type": "markdown",
   "metadata": {},
   "source": [
    "Un sistema de 1GDL tiene las propiedades siguientes: m = 0.2533 kip-s2/pulg, k = 10 kips/pulg, Tn = 1 s (ωn = 6.283 rad/s) y $\\xi$ = 0.05. Determine la respuesta y(t) de este sistema para la p(t) definida por la fuerza de pulso sinusoidal de medio ciclo que se muestra en la figura, con t = 0.1 s "
   ]
  },
  {
   "cell_type": "markdown",
   "metadata": {},
   "source": [
    "<img src=\"imagenes/fig_5.png\" width=\"300\">"
   ]
  },
  {
   "cell_type": "markdown",
   "metadata": {},
   "source": [
    "#### Solución: "
   ]
  },
  {
   "cell_type": "code",
   "execution_count": 4,
   "metadata": {},
   "outputs": [],
   "source": [
    "# Importamos la librerias necesarias\n",
    "import numpy as np\n",
    "import pandas as pd"
   ]
  },
  {
   "cell_type": "code",
   "execution_count": 5,
   "metadata": {},
   "outputs": [],
   "source": [
    "# Datos:\n",
    "k = 10\n",
    "m = 0.2533  \n",
    "tc = 0.6 # tiempo de aplicación de la carga\n",
    "tf = 1.0 # tiempo de análisis\n",
    "dt = 0.1 # intervalos de tiempo\n",
    "ξ = 0.05 # razon de amortiguamiento\n",
    "v0 = 0 # velocidad inicial\n",
    "y0 = 0 # posición inicial\n",
    "w = np.sqrt(k/m) # frecuencia natural\n",
    "wd = w * np.sqrt(1 - ξ **2)\n",
    "def F(t):\n",
    "    if t >= 0 and t <= tc:\n",
    "        ff = 10 * np.sin(np.pi * t / 0.6)\n",
    "    else:\n",
    "        ff = 0\n",
    "    return ff          "
   ]
  },
  {
   "cell_type": "code",
   "execution_count": 7,
   "metadata": {},
   "outputs": [],
   "source": [
    "# Cálculos auxiliares:\n",
    "F1 = np.exp(-ξ * w * dt)\n",
    "F2 = np.sin(wd * dt)\n",
    "F3 = np.cos(wd * dt)\n",
    "F4 = ξ / np.sqrt(1 - ξ**2)\n",
    "F5 = w / np.sqrt(1 - ξ**2)"
   ]
  },
  {
   "cell_type": "code",
   "execution_count": 9,
   "metadata": {},
   "outputs": [],
   "source": [
    "# Calculos de constantes\n",
    "A = F1 * (F4 * F2 + F3)\n",
    "B = F1 * (F2 / wd)\n",
    "C = (1 / k) * (2 * ξ / (w * dt) + F1 * (((1 - 2 * ξ ** 2) / (wd * dt) - F4) * F2 - (1 + 2 * ξ / (w * dt)) * F3))\n",
    "D = (1 / k) * (1 - 2 * ξ / (w * dt) + F1 * ((2 * ξ **2 -1) * F2 / (wd * dt) + (2 * ξ) * F3 / (wd * dt)))\n",
    "\n",
    "Ap =-F1 * (F5 * F2)\n",
    "Bp = F1 * (F3 - F4 * F2)\n",
    "Cp = (1 / k) * ((-1 / dt) + F1 * ((F5 + F4 / dt) * F2 + F3 / dt))\n",
    "Dp = (1 / (k * dt)) * (1 - F1 * (F4 * F2 + F3))"
   ]
  },
  {
   "cell_type": "code",
   "execution_count": 12,
   "metadata": {},
   "outputs": [],
   "source": [
    "# Iteraciones\n",
    "n = int(tf / dt)\n",
    "y = [y0]\n",
    "v = [v0]\n",
    "t = np.arange(0, tf+dt, dt)\n",
    "for i in range(1, n + 1):\n",
    "    y.append(A * y[i - 1] + B * v[i - 1] + C * F((i - 1) * dt) + D * F((i) * dt))\n",
    "    v.append(Ap * y[i - 1] + Bp * v[i - 1] + Cp * F((i - 1) * dt) + Dp * F((i) * dt))"
   ]
  },
  {
   "cell_type": "markdown",
   "metadata": {},
   "source": [
    "##### Tabla de Resultados:"
   ]
  },
  {
   "cell_type": "code",
   "execution_count": 14,
   "metadata": {},
   "outputs": [
    {
     "data": {
      "text/html": [
       "<div>\n",
       "<style scoped>\n",
       "    .dataframe tbody tr th:only-of-type {\n",
       "        vertical-align: middle;\n",
       "    }\n",
       "\n",
       "    .dataframe tbody tr th {\n",
       "        vertical-align: top;\n",
       "    }\n",
       "\n",
       "    .dataframe thead th {\n",
       "        text-align: right;\n",
       "    }\n",
       "</style>\n",
       "<table border=\"1\" class=\"dataframe\">\n",
       "  <thead>\n",
       "    <tr style=\"text-align: right;\">\n",
       "      <th></th>\n",
       "      <th>$t_i$</th>\n",
       "      <th>$y_i$</th>\n",
       "      <th>$v_i$</th>\n",
       "    </tr>\n",
       "  </thead>\n",
       "  <tbody>\n",
       "    <tr>\n",
       "      <th>0</th>\n",
       "      <td>0.0</td>\n",
       "      <td>0.000000</td>\n",
       "      <td>0.000000</td>\n",
       "    </tr>\n",
       "    <tr>\n",
       "      <th>1</th>\n",
       "      <td>0.1</td>\n",
       "      <td>0.031837</td>\n",
       "      <td>0.935367</td>\n",
       "    </tr>\n",
       "    <tr>\n",
       "      <th>2</th>\n",
       "      <td>0.2</td>\n",
       "      <td>0.227613</td>\n",
       "      <td>3.067664</td>\n",
       "    </tr>\n",
       "    <tr>\n",
       "      <th>3</th>\n",
       "      <td>0.3</td>\n",
       "      <td>0.633857</td>\n",
       "      <td>4.854903</td>\n",
       "    </tr>\n",
       "    <tr>\n",
       "      <th>4</th>\n",
       "      <td>0.4</td>\n",
       "      <td>1.134177</td>\n",
       "      <td>4.730103</td>\n",
       "    </tr>\n",
       "    <tr>\n",
       "      <th>5</th>\n",
       "      <td>0.5</td>\n",
       "      <td>1.489725</td>\n",
       "      <td>1.931143</td>\n",
       "    </tr>\n",
       "    <tr>\n",
       "      <th>6</th>\n",
       "      <td>0.6</td>\n",
       "      <td>1.447913</td>\n",
       "      <td>-3.018313</td>\n",
       "    </tr>\n",
       "    <tr>\n",
       "      <th>7</th>\n",
       "      <td>0.7</td>\n",
       "      <td>0.903374</td>\n",
       "      <td>-7.464642</td>\n",
       "    </tr>\n",
       "    <tr>\n",
       "      <th>8</th>\n",
       "      <td>0.8</td>\n",
       "      <td>0.057551</td>\n",
       "      <td>-8.876645</td>\n",
       "    </tr>\n",
       "    <tr>\n",
       "      <th>9</th>\n",
       "      <td>0.9</td>\n",
       "      <td>-0.758069</td>\n",
       "      <td>-6.916360</td>\n",
       "    </tr>\n",
       "    <tr>\n",
       "      <th>10</th>\n",
       "      <td>1.0</td>\n",
       "      <td>-1.243367</td>\n",
       "      <td>-2.514889</td>\n",
       "    </tr>\n",
       "  </tbody>\n",
       "</table>\n",
       "</div>"
      ],
      "text/plain": [
       "    $t_i$     $y_i$     $v_i$\n",
       "0     0.0  0.000000  0.000000\n",
       "1     0.1  0.031837  0.935367\n",
       "2     0.2  0.227613  3.067664\n",
       "3     0.3  0.633857  4.854903\n",
       "4     0.4  1.134177  4.730103\n",
       "5     0.5  1.489725  1.931143\n",
       "6     0.6  1.447913 -3.018313\n",
       "7     0.7  0.903374 -7.464642\n",
       "8     0.8  0.057551 -8.876645\n",
       "9     0.9 -0.758069 -6.916360\n",
       "10    1.0 -1.243367 -2.514889"
      ]
     },
     "execution_count": 14,
     "metadata": {},
     "output_type": "execute_result"
    }
   ],
   "source": [
    "Df=pd.DataFrame({\"$t_i$\":t,\"$y_i$\":y,\"$v_i$\":v})\n",
    "Df"
   ]
  }
 ],
 "metadata": {
  "kernelspec": {
   "display_name": "Python 3",
   "language": "python",
   "name": "python3"
  },
  "language_info": {
   "codemirror_mode": {
    "name": "ipython",
    "version": 3
   },
   "file_extension": ".py",
   "mimetype": "text/x-python",
   "name": "python",
   "nbconvert_exporter": "python",
   "pygments_lexer": "ipython3",
   "version": "3.8.5"
  }
 },
 "nbformat": 4,
 "nbformat_minor": 4
}
