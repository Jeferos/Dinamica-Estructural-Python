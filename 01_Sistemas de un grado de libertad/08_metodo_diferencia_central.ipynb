{
 "cells": [
  {
   "cell_type": "markdown",
   "metadata": {},
   "source": [
    "### Método de la Diferencia Central: por diferencias finitas"
   ]
  },
  {
   "cell_type": "markdown",
   "metadata": {},
   "source": [
    "#### Problema:"
   ]
  },
  {
   "cell_type": "markdown",
   "metadata": {},
   "source": [
    "Un sistema de 1GDL tiene las propiedades siguientes: m = 0.2533 kip-s2/pulg, k = 10 kips/pulg, Tn = 1 s (ωn = 6.283 rad/s) y $\\xi$ = 0.05. Determine la respuesta y(t) de este sistema para la p(t) definida por la fuerza de pulso sinusoidal de medio ciclo que se muestra en la figura, con t = 0.1 s "
   ]
  },
  {
   "cell_type": "markdown",
   "metadata": {},
   "source": [
    "<img src=\"imagenes/fig_5.png\" width=\"300\">"
   ]
  },
  {
   "cell_type": "markdown",
   "metadata": {},
   "source": [
    "#### Solución: "
   ]
  },
  {
   "cell_type": "code",
   "execution_count": 1,
   "metadata": {},
   "outputs": [],
   "source": [
    "# Importamos la librerias necesarias\n",
    "import numpy as np\n",
    "import pandas as pd"
   ]
  },
  {
   "cell_type": "code",
   "execution_count": 2,
   "metadata": {},
   "outputs": [],
   "source": [
    "# Datos:\n",
    "k = 10\n",
    "m = 0.2533  \n",
    "tc = 0.6 # tiempo de aplicación de la carga\n",
    "tf = 1.0 # tiempo de análisis\n",
    "dt = 0.1 # intervalos de tiempo\n",
    "ξ = 0.05 # razon de amortiguamiento\n",
    "v0 = 0 # velocidad inicial\n",
    "y0 = 0 # posición inicial\n",
    "\n",
    "def F(t):\n",
    "    if t >= 0 and t <= tc:\n",
    "        ff = 10 * np.sin(np.pi * t / 0.6)\n",
    "    else:\n",
    "        ff = 0\n",
    "    return ff          "
   ]
  },
  {
   "cell_type": "code",
   "execution_count": 10,
   "metadata": {},
   "outputs": [],
   "source": [
    "# Cálculos iniciales:\n",
    "c = ξ * 2 * (k * m)**0.5\n",
    "F0 = F(0)\n",
    "a0 = (F0 - c * v0 - k * y0) / m # aceleración inicial\n",
    "\n",
    "y_1 = y0 - dt * v0 + a0 * dt**2 / 2  \n",
    "kp = m / dt**2 + c / (2 * dt)\n",
    "A = m / dt**2 - c / (2 * dt)\n",
    "B = k - 2 * m / dt**2"
   ]
  },
  {
   "cell_type": "code",
   "execution_count": 16,
   "metadata": {},
   "outputs": [],
   "source": [
    "# Iteraciones\n",
    "n = int(tf / dt)\n",
    "y = [y0, y_1]\n",
    "v = [v0]\n",
    "a = [a0]\n",
    "t = np.arange(0, tf+dt, dt)\n",
    "for i in range(1, n ):\n",
    "    Ppri = F(i * dt) - A * y[i - 1] - B * y[i]\n",
    "    y.append((Ppri) / kp)"
   ]
  },
  {
   "cell_type": "markdown",
   "metadata": {},
   "source": [
    "##### Tabla de Resultados:"
   ]
  },
  {
   "cell_type": "code",
   "execution_count": 18,
   "metadata": {},
   "outputs": [
    {
     "data": {
      "text/html": [
       "<div>\n",
       "<style scoped>\n",
       "    .dataframe tbody tr th:only-of-type {\n",
       "        vertical-align: middle;\n",
       "    }\n",
       "\n",
       "    .dataframe tbody tr th {\n",
       "        vertical-align: top;\n",
       "    }\n",
       "\n",
       "    .dataframe thead th {\n",
       "        text-align: right;\n",
       "    }\n",
       "</style>\n",
       "<table border=\"1\" class=\"dataframe\">\n",
       "  <thead>\n",
       "    <tr style=\"text-align: right;\">\n",
       "      <th></th>\n",
       "      <th>$t_i$</th>\n",
       "      <th>$y_i$</th>\n",
       "    </tr>\n",
       "  </thead>\n",
       "  <tbody>\n",
       "    <tr>\n",
       "      <th>0</th>\n",
       "      <td>0.0</td>\n",
       "      <td>0.000000</td>\n",
       "    </tr>\n",
       "    <tr>\n",
       "      <th>1</th>\n",
       "      <td>0.1</td>\n",
       "      <td>0.000000</td>\n",
       "    </tr>\n",
       "    <tr>\n",
       "      <th>2</th>\n",
       "      <td>0.2</td>\n",
       "      <td>0.191382</td>\n",
       "    </tr>\n",
       "    <tr>\n",
       "      <th>3</th>\n",
       "      <td>0.3</td>\n",
       "      <td>0.629334</td>\n",
       "    </tr>\n",
       "    <tr>\n",
       "      <th>4</th>\n",
       "      <td>0.4</td>\n",
       "      <td>1.182485</td>\n",
       "    </tr>\n",
       "    <tr>\n",
       "      <th>5</th>\n",
       "      <td>0.5</td>\n",
       "      <td>1.580809</td>\n",
       "    </tr>\n",
       "    <tr>\n",
       "      <th>6</th>\n",
       "      <td>0.6</td>\n",
       "      <td>1.541173</td>\n",
       "    </tr>\n",
       "    <tr>\n",
       "      <th>7</th>\n",
       "      <td>0.7</td>\n",
       "      <td>0.914047</td>\n",
       "    </tr>\n",
       "    <tr>\n",
       "      <th>8</th>\n",
       "      <td>0.8</td>\n",
       "      <td>-0.024740</td>\n",
       "    </tr>\n",
       "    <tr>\n",
       "      <th>9</th>\n",
       "      <td>0.9</td>\n",
       "      <td>-0.896868</td>\n",
       "    </tr>\n",
       "    <tr>\n",
       "      <th>10</th>\n",
       "      <td>1.0</td>\n",
       "      <td>-1.372579</td>\n",
       "    </tr>\n",
       "  </tbody>\n",
       "</table>\n",
       "</div>"
      ],
      "text/plain": [
       "    $t_i$     $y_i$\n",
       "0     0.0  0.000000\n",
       "1     0.1  0.000000\n",
       "2     0.2  0.191382\n",
       "3     0.3  0.629334\n",
       "4     0.4  1.182485\n",
       "5     0.5  1.580809\n",
       "6     0.6  1.541173\n",
       "7     0.7  0.914047\n",
       "8     0.8 -0.024740\n",
       "9     0.9 -0.896868\n",
       "10    1.0 -1.372579"
      ]
     },
     "execution_count": 18,
     "metadata": {},
     "output_type": "execute_result"
    }
   ],
   "source": [
    "Df=pd.DataFrame({\"$t_i$\":t,\"$y_i$\":y})\n",
    "Df"
   ]
  }
 ],
 "metadata": {
  "kernelspec": {
   "display_name": "Python 3",
   "language": "python",
   "name": "python3"
  },
  "language_info": {
   "codemirror_mode": {
    "name": "ipython",
    "version": 3
   },
   "file_extension": ".py",
   "mimetype": "text/x-python",
   "name": "python",
   "nbconvert_exporter": "python",
   "pygments_lexer": "ipython3",
   "version": "3.8.5"
  }
 },
 "nbformat": 4,
 "nbformat_minor": 4
}
