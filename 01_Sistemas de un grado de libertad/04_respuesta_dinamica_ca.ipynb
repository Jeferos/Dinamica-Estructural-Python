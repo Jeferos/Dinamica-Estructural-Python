{
 "cells": [
  {
   "cell_type": "markdown",
   "metadata": {},
   "source": [
    "## Respuesta dinámica a excitaciones generales con amortiguación\n",
    "### Cálculo directo de la integral de Duhamel"
   ]
  },
  {
   "cell_type": "markdown",
   "metadata": {},
   "source": [
    "#### Problema 4.\n",
    "Determine la respuesta dinámica a una torre sometida a la fuerza producida por una explosión en su vecindad. La idealización de la estructura y de la carga debido a la explosión se muestran en la figura. Considere la amortiguación en el sistema igual a $20\\%$ de la amortiguación crítica ."
   ]
  },
  {
   "cell_type": "code",
   "execution_count": 1,
   "metadata": {},
   "outputs": [
    {
     "data": {
      "image/png": "[encoded data removed]",
      "text/plain": [
       "<IPython.core.display.Image object>"
      ]
     },
     "execution_count": 1,
     "metadata": {},
     "output_type": "execute_result"
    }
   ],
   "source": [
    "from IPython.display import Image\n",
    "Image(filename=\"imagenes/fig_1.png\")"
   ]
  },
  {
   "cell_type": "code",
   "execution_count": 2,
   "metadata": {},
   "outputs": [],
   "source": [
    "# Importamos las librerías necesarias\n",
    "import numpy as np\n",
    "import pandas as pd\n",
    "from librerias.integral import cuad_gauss # librería que aproxima las integrales mediante el método de Cuadratura de Gauss"
   ]
  },
  {
   "cell_type": "code",
   "execution_count": 3,
   "metadata": {},
   "outputs": [],
   "source": [
    "# Iniciamos las variables\n",
    "P = 98000 # Peso W en kp\n",
    "g = 980 # Gravedad en cm/s2\n",
    "m = P/g  # masa en kp*s2/cm\n",
    "k = 100000  # rigidez en kp/cm\n",
    "e = 0.2 # razón de amortiguación del sistema\n",
    "\n",
    "F = np.array([0,120000,120000,0,0,0])\t# Fuerza(puntos donde cambia de valor)\n",
    "t = np.array([0,0.02,0.04,0.06,0.08,0.1])\t# tiempo(intervalos)"
   ]
  },
  {
   "cell_type": "markdown",
   "metadata": {},
   "source": [
    "Cálculos:"
   ]
  },
  {
   "cell_type": "code",
   "execution_count": 4,
   "metadata": {},
   "outputs": [],
   "source": [
    "w = (k/m)**0.5  # Frecuencia angular natural(rad/s)\n",
    "wd = w*(1 - e**2)**0.5 # Frecuencia del sistema con amortiguación"
   ]
  },
  {
   "cell_type": "markdown",
   "metadata": {},
   "source": [
    "Utilizaremos las siguientes ecuaciones:\n",
    "$$ I_1=\\int^{t_i}_{t_{i-1}} e^{\\xi \\omega \\tau}cos(\\omega_{D}\\tau d\\tau)$$\n",
    "$$ I_2=\\int^{t_i}_{t_{i-1}} e^{\\xi \\omega \\tau}sen(\\omega_{D}\\tau d\\tau)$$\n",
    "$$ I_3=\\int^{t_i}_{t_{i-1}} \\tau e^{\\xi \\omega \\tau}sen(\\omega_{D}\\tau d\\tau)$$\n",
    "$$ I_4=\\int^{t_i}_{t_{i-1}} \\tau e^{\\xi \\omega \\tau}cos(\\omega_{D}\\tau d\\tau)$$\n",
    "\n",
    "$$ A_D(t_i) = A_D(t_{i-1}) + \\left(F(t_{i-1})-t_{i-1}\\frac{\\Delta F_i}{\\Delta t_i} \\right) I_1+\\frac{\\Delta F_i}{\\Delta t_i}I_4$$\n",
    "\n",
    "$$ B_D(t_i) = A_D(t_{i-1}) + \\left(F(t_{i-1})-t_{i-1}\\frac{\\Delta F_i}{\\Delta t_i} \\right) I_2+\\frac{\\Delta F_i}{\\Delta t_i}I_3$$\n",
    "\n",
    "$$ y(t_i) = \\frac{e^{\\xi \\omega t_i}}{m \\omega_D}(A_D(t_i)sen(\\omega_D t_i)-B_D(t_i)cos(\\omega_D t_i) )$$"
   ]
  },
  {
   "cell_type": "code",
   "execution_count": 5,
   "metadata": {},
   "outputs": [],
   "source": [
    "n = F.shape[0] # número de elementos de F\n",
    "\n",
    "# Variables iniciales necesarias\n",
    "y0 = 0 # desplazamiento inicial\n",
    "v0 = 0 # velocidad inicial\n",
    "a0 = 0 # acelereación inicial\n",
    "A = 0\n",
    "B = 0\n",
    "AA = [A]\n",
    "BB = [B]\n",
    "y = [y0]\n",
    "v = [v0]\n",
    "a = [a0]"
   ]
  },
  {
   "cell_type": "code",
   "execution_count": 6,
   "metadata": {},
   "outputs": [],
   "source": [
    "# definimos las ecuaciones dentro de las integrales\n",
    "\n",
    "i1 = lambda t: np.exp(e * w * t) * np.cos(wd * t)\n",
    "i2 = lambda t: np.exp(e * w * t) * np.sin(wd * t)\n",
    "i3 = lambda t: t * np.exp(e * w * t) * np.sin(wd * t)\n",
    "i4 = lambda t: t * np.exp(e * w * t) * np.cos(wd * t)"
   ]
  },
  {
   "cell_type": "code",
   "execution_count": 7,
   "metadata": {},
   "outputs": [],
   "source": [
    "# definimos las función y(t) = f y derivadas\n",
    "f = lambda t: (A*np.sin(wd * t) - B * np.cos(wd * t)) * np.exp(-e * w * t) / (m * wd)\n",
    "h = 0.000001\n",
    "df = lambda t: (f(t + h) - f(t))/h # primera derivada\n",
    "ddf = lambda t: (df(t + h) - df(t))/h # segunda derivada"
   ]
  },
  {
   "cell_type": "code",
   "execution_count": 15,
   "metadata": {},
   "outputs": [],
   "source": [
    "# iteramos\n",
    "for i in range(n - 1):\n",
    "    I1 = cuad_gauss(t[i], t[i+1], i1)\n",
    "    I2 = cuad_gauss(t[i], t[i+1], i2)\n",
    "    I3 = cuad_gauss(t[i], t[i+1], i3)\n",
    "    I4 = cuad_gauss(t[i], t[i+1], i4)\n",
    "\n",
    "    A = A + (F[i] - t[i]*(F[i+1] - F[i])/(t[i+1] - t[i])) * I1 + ((F[i+1] - F[i]) / (t[i+1] - t[i])) * I4\n",
    "    B = B + (F[i] - t[i]*(F[i+1] - F[i])/(t[i+1] - t[i])) * I2 + ((F[i+1] - F[i]) / (t[i+1] - t[i])) * I3\n",
    "    AA.append(A)\n",
    "    BB.append(B)\n",
    "    y.append(f(t[i + 1]))\n",
    "    v.append(df(t[i + 1]))\n",
    "    a.append(ddf(t[i + 1]))"
   ]
  },
  {
   "cell_type": "code",
   "execution_count": 16,
   "metadata": {},
   "outputs": [
    {
     "data": {
      "text/html": [
       "<div>\n",
       "<style scoped>\n",
       "    .dataframe tbody tr th:only-of-type {\n",
       "        vertical-align: middle;\n",
       "    }\n",
       "\n",
       "    .dataframe tbody tr th {\n",
       "        vertical-align: top;\n",
       "    }\n",
       "\n",
       "    .dataframe thead th {\n",
       "        text-align: right;\n",
       "    }\n",
       "</style>\n",
       "<table border=\"1\" class=\"dataframe\">\n",
       "  <thead>\n",
       "    <tr style=\"text-align: right;\">\n",
       "      <th></th>\n",
       "      <th>t(s)</th>\n",
       "      <th>F</th>\n",
       "      <th>A</th>\n",
       "      <th>B</th>\n",
       "      <th>y</th>\n",
       "      <th>v</th>\n",
       "      <th>a</th>\n",
       "    </tr>\n",
       "  </thead>\n",
       "  <tbody>\n",
       "    <tr>\n",
       "      <th>0</th>\n",
       "      <td>0.00</td>\n",
       "      <td>0</td>\n",
       "      <td>0.0</td>\n",
       "      <td>0.0</td>\n",
       "      <td>0.000000</td>\n",
       "      <td>0.000000</td>\n",
       "      <td>0.000000</td>\n",
       "    </tr>\n",
       "    <tr>\n",
       "      <th>1</th>\n",
       "      <td>0.02</td>\n",
       "      <td>120000</td>\n",
       "      <td>1200.0</td>\n",
       "      <td>540.0</td>\n",
       "      <td>0.073185</td>\n",
       "      <td>10.908651</td>\n",
       "      <td>-211.179435</td>\n",
       "    </tr>\n",
       "    <tr>\n",
       "      <th>2</th>\n",
       "      <td>0.04</td>\n",
       "      <td>120000</td>\n",
       "      <td>2894.4</td>\n",
       "      <td>2840.4</td>\n",
       "      <td>0.454249</td>\n",
       "      <td>25.294850</td>\n",
       "      <td>-774.226849</td>\n",
       "    </tr>\n",
       "    <tr>\n",
       "      <th>3</th>\n",
       "      <td>0.06</td>\n",
       "      <td>0</td>\n",
       "      <td>3102.0</td>\n",
       "      <td>4407.6</td>\n",
       "      <td>0.933442</td>\n",
       "      <td>16.976155</td>\n",
       "      <td>-1148.185436</td>\n",
       "    </tr>\n",
       "    <tr>\n",
       "      <th>4</th>\n",
       "      <td>0.08</td>\n",
       "      <td>0</td>\n",
       "      <td>3102.0</td>\n",
       "      <td>4407.6</td>\n",
       "      <td>1.047515</td>\n",
       "      <td>-5.013698</td>\n",
       "      <td>-984.084370</td>\n",
       "    </tr>\n",
       "    <tr>\n",
       "      <th>5</th>\n",
       "      <td>0.10</td>\n",
       "      <td>0</td>\n",
       "      <td>3102.0</td>\n",
       "      <td>4407.6</td>\n",
       "      <td>0.778048</td>\n",
       "      <td>-20.374728</td>\n",
       "      <td>-520.301580</td>\n",
       "    </tr>\n",
       "  </tbody>\n",
       "</table>\n",
       "</div>"
      ],
      "text/plain": [
       "   t(s)       F       A       B         y          v            a\n",
       "0  0.00       0     0.0     0.0  0.000000   0.000000     0.000000\n",
       "1  0.02  120000  1200.0   540.0  0.073185  10.908651  -211.179435\n",
       "2  0.04  120000  2894.4  2840.4  0.454249  25.294850  -774.226849\n",
       "3  0.06       0  3102.0  4407.6  0.933442  16.976155 -1148.185436\n",
       "4  0.08       0  3102.0  4407.6  1.047515  -5.013698  -984.084370\n",
       "5  0.10       0  3102.0  4407.6  0.778048 -20.374728  -520.301580"
      ]
     },
     "execution_count": 16,
     "metadata": {},
     "output_type": "execute_result"
    }
   ],
   "source": [
    "df = pd.DataFrame({'t(s)':t,'F':F,'A':AA,'B':BB,'y':y,'v':v,'a':a})\n",
    "df"
   ]
  },
  {
   "cell_type": "markdown",
   "metadata": {},
   "source": [
    "El efecto de la explosión termina en el instante $t = 0.06$, los valores A y B permanecen constantes después de ese tiempo. En consecuencia, la vibración que sigue se obtiene sustituyendo los valores  de A y B calculados para $t =0.06$: "
   ]
  },
  {
   "cell_type": "code",
   "execution_count": 19,
   "metadata": {},
   "outputs": [
    {
     "name": "stdout",
     "output_type": "stream",
     "text": [
      "y(t) = e^(-6.32t)*(1.0012 sen30.98t - 1.4225 cos30.98t)\n"
     ]
    }
   ],
   "source": [
    "print(\"y(t) = e^({}t)*({} sen{}t - {} cos{}t)\".format(round(-e*w,2),round(A/(m*wd),4),round(wd,2),round(B/(m*wd),4),round(wd,2)))"
   ]
  },
  {
   "cell_type": "code",
   "execution_count": null,
   "metadata": {},
   "outputs": [],
   "source": []
  }
 ],
 "metadata": {
  "kernelspec": {
   "display_name": "Python 3",
   "language": "python",
   "name": "python3"
  },
  "language_info": {
   "codemirror_mode": {
    "name": "ipython",
    "version": 3
   },
   "file_extension": ".py",
   "mimetype": "text/x-python",
   "name": "python",
   "nbconvert_exporter": "python",
   "pygments_lexer": "ipython3",
   "version": "3.8.5"
  }
 },
 "nbformat": 4,
 "nbformat_minor": 4
}
