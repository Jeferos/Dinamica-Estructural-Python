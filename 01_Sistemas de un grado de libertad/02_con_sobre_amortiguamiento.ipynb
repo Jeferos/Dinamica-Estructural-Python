{
 "cells": [
  {
   "cell_type": "markdown",
   "metadata": {},
   "source": [
    "## Sistemas con un grado de Libertad sobreamortiguado"
   ]
  },
  {
   "cell_type": "markdown",
   "metadata": {},
   "source": [
    "#### Problema.\n",
    "\n",
    "Un sistema de un grado de libertad tiene las propiedades siguientes: m =\n",
    "0.2533 kip-s2/pulg, k = 10 kips/pulg. Determine las respuesta y(t), y'(t), y''(t) en vibración libre con\n",
    "amortiguamiento debido a una velocidad inicial de 40 cm/s con ξ = 2.00.\n",
    "\n"
   ]
  },
  {
   "cell_type": "markdown",
   "metadata": {},
   "source": [
    "Solución:"
   ]
  },
  {
   "cell_type": "code",
   "execution_count": 13,
   "metadata": {},
   "outputs": [],
   "source": [
    "# Importamos las librerías necesarias\n",
    "import numpy as np\n",
    "import matplotlib.pyplot as plt\n",
    "import pandas as pd"
   ]
  },
  {
   "cell_type": "code",
   "execution_count": 22,
   "metadata": {},
   "outputs": [],
   "source": [
    "# Iniciamos las variables\n",
    "m = 0.2533  # masa\n",
    "k = 10  # rigidez\n",
    "v0 = 40  # velocidad inicial en cm/s\n",
    "y0 = 0  # desplazamiento inicial en cm\n",
    "e = 2.00  # razón de amortiguamiento  \n",
    "\n",
    "tf = 5.0  # tiempo de análisis para el gráfico\n",
    "tt = 0.3  # tiempo de análisis para los datos en tabla\n",
    "dt = 0.02 # intervalo de tiempo"
   ]
  },
  {
   "cell_type": "markdown",
   "metadata": {},
   "source": [
    "Cálculos:"
   ]
  },
  {
   "cell_type": "code",
   "execution_count": 3,
   "metadata": {},
   "outputs": [],
   "source": [
    "w = (k/m)**0.5  # Frecuencia natural angular (rad/s)\n",
    "T = 2*np.pi/w  #  Periodo de la estructura\n",
    "# wd = w*(1-e**2)**0.5 # Frecuencia del sistema con amortiguación"
   ]
  },
  {
   "cell_type": "code",
   "execution_count": 5,
   "metadata": {},
   "outputs": [],
   "source": [
    "t = np.arange(0,tf+dt,dt) # creamos un vector con el tiempo\n"
   ]
  },
  {
   "cell_type": "markdown",
   "metadata": {},
   "source": [
    "#### Ecuación de Movimiento"
   ]
  },
  {
   "cell_type": "markdown",
   "metadata": {},
   "source": [
    "$$ y(t) = \\frac{v_0 e^{-\\xi \\omega_n t}}{2\\omega_n \\sqrt{\\xi^2-1}} \n",
    "\\left(e^{\\omega_n \\sqrt{\\xi^2-1}t}-e^{-\\omega_n \\sqrt{\\xi^2-1}t} \\right )\n",
    "$$"
   ]
  },
  {
   "cell_type": "code",
   "execution_count": 8,
   "metadata": {},
   "outputs": [],
   "source": [
    "# Ecuación de movimiento\n",
    "# y = lambda t: np.exp(-e*w*t)*(y0*np.cos(wd*t) + (v0 + y0*e*w)*np.sin(wd*t)/wd)\n",
    "\n",
    "y = lambda t: (v0*np.exp(-e*w*t)/(2*w*np.sqrt(e**2-1)))*(np.exp(w * np.sqrt(e**2-1)*t) - np.exp(-w * np.sqrt(e**2-1)*t))\n",
    "\n",
    "# Aproximaremos las derivadas con:\n",
    "h = 0.0000001\n",
    "df = lambda t: (y(t+h)-y(t))/h  # Primera derivada\n",
    "df2 = lambda t: (df(t+h)-df(t))/h  # Segunda derivada"
   ]
  },
  {
   "cell_type": "code",
   "execution_count": 23,
   "metadata": {},
   "outputs": [
    {
     "data": {
      "text/html": [
       "<div>\n",
       "<style scoped>\n",
       "    .dataframe tbody tr th:only-of-type {\n",
       "        vertical-align: middle;\n",
       "    }\n",
       "\n",
       "    .dataframe tbody tr th {\n",
       "        vertical-align: top;\n",
       "    }\n",
       "\n",
       "    .dataframe thead th {\n",
       "        text-align: right;\n",
       "    }\n",
       "</style>\n",
       "<table border=\"1\" class=\"dataframe\">\n",
       "  <thead>\n",
       "    <tr style=\"text-align: right;\">\n",
       "      <th></th>\n",
       "      <th>t(s)</th>\n",
       "      <th>y</th>\n",
       "      <th>v</th>\n",
       "      <th>a</th>\n",
       "    </tr>\n",
       "  </thead>\n",
       "  <tbody>\n",
       "    <tr>\n",
       "      <th>0</th>\n",
       "      <td>0.00</td>\n",
       "      <td>0.000000</td>\n",
       "      <td>39.999950</td>\n",
       "      <td>-1005.374836</td>\n",
       "    </tr>\n",
       "    <tr>\n",
       "      <th>1</th>\n",
       "      <td>0.02</td>\n",
       "      <td>0.627138</td>\n",
       "      <td>23.969581</td>\n",
       "      <td>-627.176089</td>\n",
       "    </tr>\n",
       "    <tr>\n",
       "      <th>2</th>\n",
       "      <td>0.04</td>\n",
       "      <td>0.998733</td>\n",
       "      <td>13.975361</td>\n",
       "      <td>-390.643073</td>\n",
       "    </tr>\n",
       "    <tr>\n",
       "      <th>3</th>\n",
       "      <td>0.06</td>\n",
       "      <td>1.211138</td>\n",
       "      <td>7.756416</td>\n",
       "      <td>-242.694753</td>\n",
       "    </tr>\n",
       "    <tr>\n",
       "      <th>4</th>\n",
       "      <td>0.08</td>\n",
       "      <td>1.324614</td>\n",
       "      <td>3.898302</td>\n",
       "      <td>-150.213175</td>\n",
       "    </tr>\n",
       "    <tr>\n",
       "      <th>5</th>\n",
       "      <td>0.10</td>\n",
       "      <td>1.376839</td>\n",
       "      <td>1.516127</td>\n",
       "      <td>-92.414965</td>\n",
       "    </tr>\n",
       "    <tr>\n",
       "      <th>6</th>\n",
       "      <td>0.12</td>\n",
       "      <td>1.391363</td>\n",
       "      <td>0.056306</td>\n",
       "      <td>-56.354921</td>\n",
       "    </tr>\n",
       "    <tr>\n",
       "      <th>7</th>\n",
       "      <td>0.14</td>\n",
       "      <td>1.382903</td>\n",
       "      <td>-0.827468</td>\n",
       "      <td>-33.728575</td>\n",
       "    </tr>\n",
       "    <tr>\n",
       "      <th>8</th>\n",
       "      <td>0.16</td>\n",
       "      <td>1.360643</td>\n",
       "      <td>-1.351824</td>\n",
       "      <td>-19.717561</td>\n",
       "    </tr>\n",
       "    <tr>\n",
       "      <th>9</th>\n",
       "      <td>0.18</td>\n",
       "      <td>1.330312</td>\n",
       "      <td>-1.652261</td>\n",
       "      <td>-11.080026</td>\n",
       "    </tr>\n",
       "    <tr>\n",
       "      <th>10</th>\n",
       "      <td>0.20</td>\n",
       "      <td>1.295474</td>\n",
       "      <td>-1.813521</td>\n",
       "      <td>-5.551115</td>\n",
       "    </tr>\n",
       "    <tr>\n",
       "      <th>11</th>\n",
       "      <td>0.22</td>\n",
       "      <td>1.258341</td>\n",
       "      <td>-1.888591</td>\n",
       "      <td>-2.242651</td>\n",
       "    </tr>\n",
       "    <tr>\n",
       "      <th>12</th>\n",
       "      <td>0.24</td>\n",
       "      <td>1.220281</td>\n",
       "      <td>-1.910592</td>\n",
       "      <td>-0.111022</td>\n",
       "    </tr>\n",
       "    <tr>\n",
       "      <th>13</th>\n",
       "      <td>0.26</td>\n",
       "      <td>1.182132</td>\n",
       "      <td>-1.900218</td>\n",
       "      <td>1.154632</td>\n",
       "    </tr>\n",
       "    <tr>\n",
       "      <th>14</th>\n",
       "      <td>0.28</td>\n",
       "      <td>1.144401</td>\n",
       "      <td>-1.870388</td>\n",
       "      <td>1.798561</td>\n",
       "    </tr>\n",
       "    <tr>\n",
       "      <th>15</th>\n",
       "      <td>0.30</td>\n",
       "      <td>1.107392</td>\n",
       "      <td>-1.829159</td>\n",
       "      <td>2.309264</td>\n",
       "    </tr>\n",
       "    <tr>\n",
       "      <th>16</th>\n",
       "      <td>0.32</td>\n",
       "      <td>1.071277</td>\n",
       "      <td>-1.781545</td>\n",
       "      <td>2.531308</td>\n",
       "    </tr>\n",
       "    <tr>\n",
       "      <th>17</th>\n",
       "      <td>0.34</td>\n",
       "      <td>1.036151</td>\n",
       "      <td>-1.730659</td>\n",
       "      <td>2.531308</td>\n",
       "    </tr>\n",
       "    <tr>\n",
       "      <th>18</th>\n",
       "      <td>0.36</td>\n",
       "      <td>1.002060</td>\n",
       "      <td>-1.678425</td>\n",
       "      <td>2.775558</td>\n",
       "    </tr>\n",
       "    <tr>\n",
       "      <th>19</th>\n",
       "      <td>0.38</td>\n",
       "      <td>0.969016</td>\n",
       "      <td>-1.626022</td>\n",
       "      <td>2.631229</td>\n",
       "    </tr>\n",
       "    <tr>\n",
       "      <th>20</th>\n",
       "      <td>0.40</td>\n",
       "      <td>0.937015</td>\n",
       "      <td>-1.574167</td>\n",
       "      <td>2.664535</td>\n",
       "    </tr>\n",
       "  </tbody>\n",
       "</table>\n",
       "</div>"
      ],
      "text/plain": [
       "    t(s)         y          v            a\n",
       "0   0.00  0.000000  39.999950 -1005.374836\n",
       "1   0.02  0.627138  23.969581  -627.176089\n",
       "2   0.04  0.998733  13.975361  -390.643073\n",
       "3   0.06  1.211138   7.756416  -242.694753\n",
       "4   0.08  1.324614   3.898302  -150.213175\n",
       "5   0.10  1.376839   1.516127   -92.414965\n",
       "6   0.12  1.391363   0.056306   -56.354921\n",
       "7   0.14  1.382903  -0.827468   -33.728575\n",
       "8   0.16  1.360643  -1.351824   -19.717561\n",
       "9   0.18  1.330312  -1.652261   -11.080026\n",
       "10  0.20  1.295474  -1.813521    -5.551115\n",
       "11  0.22  1.258341  -1.888591    -2.242651\n",
       "12  0.24  1.220281  -1.910592    -0.111022\n",
       "13  0.26  1.182132  -1.900218     1.154632\n",
       "14  0.28  1.144401  -1.870388     1.798561\n",
       "15  0.30  1.107392  -1.829159     2.309264\n",
       "16  0.32  1.071277  -1.781545     2.531308\n",
       "17  0.34  1.036151  -1.730659     2.531308\n",
       "18  0.36  1.002060  -1.678425     2.775558\n",
       "19  0.38  0.969016  -1.626022     2.631229\n",
       "20  0.40  0.937015  -1.574167     2.664535"
      ]
     },
     "execution_count": 23,
     "metadata": {},
     "output_type": "execute_result"
    }
   ],
   "source": [
    "# Resultados del desplazamiento\n",
    "ttt = np.arange(0, tt + dt, dt) # creamos un vector con el tiempo para la tabla\n",
    "Df = pd.DataFrame({\"t(s)\":ttt,\"y\":y(ttt),\"v\":df(ttt),\"a\":df2(ttt)})\n",
    "Df"
   ]
  },
  {
   "cell_type": "code",
   "execution_count": 10,
   "metadata": {},
   "outputs": [
    {
     "data": {
      "text/plain": [
       "Text(0, 0.5, 'Desplazamiento (cm)')"
      ]
     },
     "execution_count": 10,
     "metadata": {},
     "output_type": "execute_result"
    },
    {
     "data": {
      "image/png": "[encoded data removed]",
      "text/plain": [
       "<Figure size 432x288 with 1 Axes>"
      ]
     },
     "metadata": {},
     "output_type": "display_data"
    }
   ],
   "source": [
    "# Graficamos  el Desplazamiento\n",
    "plt.style.use('dark_background')\n",
    "plt.plot(t,y(t),color='lightblue')\n",
    "plt.grid()\n",
    "plt.title(\"Respuesta elástica en el tiempo\")\n",
    "plt.xlabel(\"Tiempo (s)\")\n",
    "plt.ylabel(\"Desplazamiento (cm)\")"
   ]
  },
  {
   "cell_type": "code",
   "execution_count": 11,
   "metadata": {},
   "outputs": [
    {
     "data": {
      "text/plain": [
       "Text(0, 0.5, 'Velocidad (cm/s)')"
      ]
     },
     "execution_count": 11,
     "metadata": {},
     "output_type": "execute_result"
    },
    {
     "data": {
      "image/png": "[encoded data removed]",
      "text/plain": [
       "<Figure size 432x288 with 1 Axes>"
      ]
     },
     "metadata": {},
     "output_type": "display_data"
    }
   ],
   "source": [
    "# Graficamos  la velocidad\n",
    "plt.plot(t,df(t),color='yellow')\n",
    "plt.grid()\n",
    "plt.title(\"Respuesta elástica en el tiempo\")\n",
    "plt.xlabel(\"Tiempo (s)\")\n",
    "plt.ylabel(\"Velocidad (cm/s)\")"
   ]
  },
  {
   "cell_type": "code",
   "execution_count": 12,
   "metadata": {},
   "outputs": [
    {
     "data": {
      "text/plain": [
       "Text(0, 0.5, 'Aceleración ($cm/s^2$)')"
      ]
     },
     "execution_count": 12,
     "metadata": {},
     "output_type": "execute_result"
    },
    {
     "data": {
      "image/png": "[encoded data removed]",
      "text/plain": [
       "<Figure size 432x288 with 1 Axes>"
      ]
     },
     "metadata": {},
     "output_type": "display_data"
    }
   ],
   "source": [
    "# Graficamos  la aceleración\n",
    "plt.plot(t,df2(t),color='pink')\n",
    "plt.grid()\n",
    "plt.title(\"Respuesta elástica en el tiempo\")\n",
    "plt.xlabel(\"Tiempo (s)\")\n",
    "plt.ylabel(\"Aceleración ($cm/s^2$)\")"
   ]
  },
  {
   "cell_type": "code",
   "execution_count": null,
   "metadata": {},
   "outputs": [],
   "source": []
  }
 ],
 "metadata": {
  "kernelspec": {
   "display_name": "Python 3",
   "language": "python",
   "name": "python3"
  },
  "language_info": {
   "codemirror_mode": {
    "name": "ipython",
    "version": 3
   },
   "file_extension": ".py",
   "mimetype": "text/x-python",
   "name": "python",
   "nbconvert_exporter": "python",
   "pygments_lexer": "ipython3",
   "version": "3.8.5"
  }
 },
 "nbformat": 4,
 "nbformat_minor": 4
}
